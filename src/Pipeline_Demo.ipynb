{
 "cells": [
  {
   "cell_type": "markdown",
   "id": "d49eb2fa",
   "metadata": {},
   "source": [
    "# MareFEst : Mare Fertility Estimation\n",
    "\n",
    "The following notebook illustrates the workflow of the MareFEst project within the context of the final degree project of Facultad de Ingenieria (UdelaR).\n",
    "\n",
    "The workflow pipeline consists of:\n",
    "\n",
    "   1. Generating model inferences across the entire WSI (nuclei, glands, or fibrosis).\n",
    "   2. Aligning all the masks to be processed and dividing them into patches.\n",
    "   3. Processing the resulting masks before obtaining information about them.\n",
    "   4. Extracting information from images.\n",
    "   \n",
    "In order to \n",
    "\n"
   ]
  },
  {
   "cell_type": "code",
   "execution_count": 1,
   "id": "8b3bba56",
   "metadata": {},
   "outputs": [
    {
     "name": "stdout",
     "output_type": "stream",
     "text": [
      "\u001b[32;1m\n",
      "     - Powered by -     \n",
      "   _______   __________   \n",
      "  / __/ _ | / __/_  __/   https://fast.eriksmistad.no\n",
      " / _// __ |_\\ \\  / /               v4.7.0\n",
      "/_/ /_/ |_/___/ /_/       \n",
      "\n",
      "\u001b[0m"
     ]
    }
   ],
   "source": [
    "from colon_epithelium_segmentation_with_postprocessing import epithelium_segmentation_wsi\n"
   ]
  },
  {
   "cell_type": "code",
   "execution_count": 2,
   "id": "143ed3a7-7174-43a5-8349-0a450c1d5221",
   "metadata": {},
   "outputs": [],
   "source": [
    "# Initialize\n",
    "wsi_path = '/home/agustina/Documents/FING/proyecto/WSI/IMÁGENES_BIOPSIAS/imágenes biopsias particulares/Lady.svs'\n",
    "model_epithelium = '/home/agustina/fastpathology/datahub/colon-epithelium-segmentation-he-model/HE_IBDColEpi_512_2class_140222.onnx'\n",
    "\n",
    "output_folder = 'colon_epithelium_tiffs'"
   ]
  },
  {
   "cell_type": "markdown",
   "id": "cad0a560-b594-4d4d-a38e-6ad5b9e5c364",
   "metadata": {},
   "source": [
    "## 1. Generate inferences\n",
    "The following functions take the path of a test Whole Slide Image (WSI), perform an inference, display it at the time of inference, and save it to a .tiff file. For didactic purposes, we will retrieve the previously generated .tiff files for the gland and nucleus models."
   ]
  },
  {
   "cell_type": "code",
   "execution_count": 3,
   "id": "a1655035",
   "metadata": {},
   "outputs": [
    {
     "name": "stdout",
     "output_type": "stream",
     "text": [
      "\u001b[1mWARNING [139733535196992] Failed to load plugin because libnvinfer.so.8: cannot open shared object file: No such file or directory\u001b[0m\n",
      "\u001b[1mWARNING [139728573658688] Patch size must be a multiple of 16 (TIFF limitation). Adding some overlap (160, 160) to fix.\u001b[0m\n",
      "Creating tiff path..\n",
      "random string: EoYjgzdHhvV0LLj75VmOF1zKiUBLbHBA\n",
      "TIFF path: /tmp/fast_image_pyramid_EoYjgzdHhvV0LLj75VmOF1zKiUBLbHBA.tiff\n"
     ]
    },
    {
     "ename": "RuntimeError",
     "evalue": "Thread stopped!",
     "output_type": "error",
     "traceback": [
      "\u001b[0;31m---------------------------------------------------------------------------\u001b[0m",
      "\u001b[0;31mRuntimeError\u001b[0m                              Traceback (most recent call last)",
      "\u001b[0;32m/tmp/ipykernel_20473/898241717.py\u001b[0m in \u001b[0;36m?\u001b[0;34m()\u001b[0m\n\u001b[0;32m----> 1\u001b[0;31m \u001b[0mepithelium_segmentation_wsi\u001b[0m\u001b[0;34m(\u001b[0m\u001b[0mwsi_path\u001b[0m\u001b[0;34m,\u001b[0m \u001b[0mmodel\u001b[0m\u001b[0;34m,\u001b[0m \u001b[0moutput_folder\u001b[0m\u001b[0;34m)\u001b[0m\u001b[0;34m\u001b[0m\u001b[0;34m\u001b[0m\u001b[0m\n\u001b[0m",
      "\u001b[0;32m~/Documents/FING/proyecto/nuclei_epithelium_db/src/colon_epithelium_segmentation_with_postprocessing.py\u001b[0m in \u001b[0;36m?\u001b[0;34m(wsi_path, model_path, output)\u001b[0m\n\u001b[1;32m     58\u001b[0m \u001b[0;34m\u001b[0m\u001b[0m\n\u001b[1;32m     59\u001b[0m     \u001b[0;32mif\u001b[0m \u001b[0;32mnot\u001b[0m \u001b[0mos\u001b[0m\u001b[0;34m.\u001b[0m\u001b[0mpath\u001b[0m\u001b[0;34m.\u001b[0m\u001b[0mexists\u001b[0m\u001b[0;34m(\u001b[0m\u001b[0moutput\u001b[0m\u001b[0;34m)\u001b[0m\u001b[0;34m:\u001b[0m\u001b[0;34m\u001b[0m\u001b[0;34m\u001b[0m\u001b[0m\n\u001b[1;32m     60\u001b[0m         \u001b[0mos\u001b[0m\u001b[0;34m.\u001b[0m\u001b[0mmkdir\u001b[0m\u001b[0;34m(\u001b[0m\u001b[0moutput\u001b[0m\u001b[0;34m)\u001b[0m\u001b[0;34m\u001b[0m\u001b[0;34m\u001b[0m\u001b[0m\n\u001b[1;32m     61\u001b[0m \u001b[0;34m\u001b[0m\u001b[0m\n\u001b[0;32m---> 62\u001b[0;31m     \u001b[0mexporter\u001b[0m \u001b[0;34m=\u001b[0m \u001b[0mfast\u001b[0m\u001b[0;34m.\u001b[0m\u001b[0mTIFFImagePyramidExporter\u001b[0m\u001b[0;34m.\u001b[0m\u001b[0mcreate\u001b[0m\u001b[0;34m(\u001b[0m\u001b[0mos\u001b[0m\u001b[0;34m.\u001b[0m\u001b[0mpath\u001b[0m\u001b[0;34m.\u001b[0m\u001b[0mjoin\u001b[0m\u001b[0;34m(\u001b[0m\u001b[0moutput\u001b[0m\u001b[0;34m,\u001b[0m\u001b[0mWSI_fn\u001b[0m\u001b[0;34m+\u001b[0m\u001b[0;34m'.tiff'\u001b[0m\u001b[0;34m)\u001b[0m\u001b[0;34m)\u001b[0m\u001b[0;31m\\\u001b[0m\u001b[0;34m\u001b[0m\u001b[0;34m\u001b[0m\u001b[0m\n\u001b[0m\u001b[1;32m     63\u001b[0m         \u001b[0;34m.\u001b[0m\u001b[0mconnect\u001b[0m\u001b[0;34m(\u001b[0m\u001b[0mfinished\u001b[0m\u001b[0;34m)\u001b[0m\u001b[0;31m\\\u001b[0m\u001b[0;34m\u001b[0m\u001b[0;34m\u001b[0m\u001b[0m\n\u001b[1;32m     64\u001b[0m         \u001b[0;34m.\u001b[0m\u001b[0mrun\u001b[0m\u001b[0;34m(\u001b[0m\u001b[0;34m)\u001b[0m\u001b[0;34m\u001b[0m\u001b[0;34m\u001b[0m\u001b[0m\n\u001b[1;32m     65\u001b[0m \u001b[0;34m\u001b[0m\u001b[0m\n",
      "\u001b[0;32m~/Documents/FING/proyecto/nuclei_epithelium_db/.env/lib/python3.8/site-packages/fast/fast.py\u001b[0m in \u001b[0;36m?\u001b[0;34m(self, executeToken)\u001b[0m\n\u001b[1;32m   3439\u001b[0m     \u001b[0;32mdef\u001b[0m \u001b[0mrun\u001b[0m\u001b[0;34m(\u001b[0m\u001b[0mself\u001b[0m\u001b[0;34m,\u001b[0m \u001b[0mexecuteToken\u001b[0m\u001b[0;34m:\u001b[0m \u001b[0;34m\"int64_t\"\u001b[0m\u001b[0;34m=\u001b[0m\u001b[0;34m-\u001b[0m\u001b[0;36m1\u001b[0m\u001b[0;34m)\u001b[0m \u001b[0;34m->\u001b[0m \u001b[0;34m\"void\"\u001b[0m\u001b[0;34m:\u001b[0m\u001b[0;34m\u001b[0m\u001b[0;34m\u001b[0m\u001b[0m\n\u001b[0;32m-> 3440\u001b[0;31m         \u001b[0;32mreturn\u001b[0m \u001b[0m_fast\u001b[0m\u001b[0;34m.\u001b[0m\u001b[0mProcessObject_run\u001b[0m\u001b[0;34m(\u001b[0m\u001b[0mself\u001b[0m\u001b[0;34m,\u001b[0m \u001b[0mexecuteToken\u001b[0m\u001b[0;34m)\u001b[0m\u001b[0;34m\u001b[0m\u001b[0;34m\u001b[0m\u001b[0m\n\u001b[0m",
      "\u001b[0;31mRuntimeError\u001b[0m: Thread stopped!"
     ]
    }
   ],
   "source": [
    "# Run this code to make inference \n",
    "# epithelium_segmentation_wsi(wsi_path, model_epithelium, output_folder)\n",
    "# "
   ]
  },
  {
   "cell_type": "code",
   "execution_count": null,
   "id": "63ac2e39-6ab4-47eb-8c63-8c6bea7cc1cc",
   "metadata": {},
   "outputs": [],
   "source": [
    "jupyter notebook --version"
   ]
  },
  {
   "cell_type": "code",
   "execution_count": null,
   "id": "a52804e7-a1a4-449a-b13b-9590a20a5461",
   "metadata": {},
   "outputs": [],
   "source": []
  }
 ],
 "metadata": {
  "kernelspec": {
   "display_name": "Python 3 (ipykernel)",
   "language": "python",
   "name": "python3"
  },
  "language_info": {
   "codemirror_mode": {
    "name": "ipython",
    "version": 3
   },
   "file_extension": ".py",
   "mimetype": "text/x-python",
   "name": "python",
   "nbconvert_exporter": "python",
   "pygments_lexer": "ipython3",
   "version": "3.8.15"
  }
 },
 "nbformat": 4,
 "nbformat_minor": 5
}
