{
 "cells": [
  {
   "cell_type": "markdown",
   "id": "31ed7019-c741-45fd-a96a-ec7e134c8b6d",
   "metadata": {},
   "source": [
    "## Imports"
   ]
  },
  {
   "cell_type": "code",
   "execution_count": 1,
   "id": "bbf96346-fa33-4a77-b0a9-db6dcbfe6a0c",
   "metadata": {},
   "outputs": [],
   "source": [
    "import os\n",
    "import cv2\n",
    "import random\n",
    "import numpy as np\n",
    "import pandas as pd\n",
    "from tqdm import tqdm\n",
    "import matplotlib.pyplot as plt\n",
    "import plotly.graph_objects as go\n",
    "from sklearn.cluster import KMeans"
   ]
  },
  {
   "cell_type": "markdown",
   "id": "16cc1878-0599-47e0-9e8b-22041fde1ec7",
   "metadata": {},
   "source": [
    "## Load images and masks"
   ]
  },
  {
   "cell_type": "code",
   "execution_count": 2,
   "id": "dfb207a0-23ab-4c02-a5c3-0d17f08de693",
   "metadata": {},
   "outputs": [],
   "source": [
    "images_path = '/home/sofia/Documents/FING/Proyecto/clasificacion_de_nucleos/Lady/patches'\n",
    "masks_filtered_path = '/home/sofia/Documents/FING/Proyecto/clasificacion_de_nucleos/Lady/masks_filtered'\n",
    "images_name = os.listdir(images_path)\n",
    "\n",
    "# Load images and masks\n",
    "images = []\n",
    "masks = []\n",
    "for image_name in images_name[:100]:\n",
    "    image = cv2.imread(os.path.join(images_path, image_name))\n",
    "    mask = cv2.imread(os.path.join(masks_filtered_path, image_name),  cv2.IMREAD_GRAYSCALE)\n",
    "    images.append(image)\n",
    "    masks.append(mask)\n",
    "\n",
    "# mask: channel 0 is background, channel 1 is for glands, channel 2 is for nuclei"
   ]
  },
  {
   "cell_type": "markdown",
   "id": "52c39d21-aeba-4e7b-85b6-c59d1ef4255f",
   "metadata": {},
   "source": [
    "## Calculate features for each nucleus of every image"
   ]
  },
  {
   "cell_type": "code",
   "execution_count": 3,
   "id": "107462d4-3348-4275-9af6-9b68ab26e403",
   "metadata": {},
   "outputs": [],
   "source": [
    "from scipy.stats import entropy\n",
    "\n",
    "def R(intensity_levels):\n",
    "    norm_var = intensity_levels.var()/(255**2)\n",
    "    return 1-1/(1+norm_var)\n",
    "\n",
    "def U(p_intensity):\n",
    "    return np.sum(p_intensity[0]**2)\n",
    "\n",
    "def E(p_intensity):\n",
    "    return entropy(p_intensity[0], base=2)    \n",
    "    "
   ]
  },
  {
   "cell_type": "code",
   "execution_count": 4,
   "id": "a36a7b75-095c-40a0-9582-4b486301ff8e",
   "metadata": {},
   "outputs": [
    {
     "name": "stderr",
     "output_type": "stream",
     "text": [
      "100%|█████████████████████████████████████████| 100/100 [00:49<00:00,  2.02it/s]\n"
     ]
    }
   ],
   "source": [
    "nuclei_data = {}\n",
    "\n",
    "'''\n",
    "cv2.findContours parameters:\n",
    "    mode -> cv2.RETR_EXTERNAL: retrieves only the extreme outer contours.\n",
    "    method -> cv2.CHAIN_APPROX_SIMPLE: compresses horizontal, vertical, and diagonal segments and leaves only their end points.\n",
    "'''\n",
    "\n",
    "for i in tqdm(range(len(images))):\n",
    "\n",
    "    # 1. Separate all nuclei instances in an image and calculate statistics.\n",
    "    num_labels, nuclei_instances, stats, centroids = cv2.connectedComponentsWithStats(masks[i])\n",
    "\n",
    "    contours = []\n",
    "    perimeters = []\n",
    "    areas = []\n",
    "    circularity = []\n",
    "    intensity = []\n",
    "    texture_R = []\n",
    "    texture_U = []\n",
    "    texture_E = []\n",
    "    gray_image = cv2.cvtColor(images[i], cv2.COLOR_BGR2GRAY)\n",
    "\n",
    "    # 2. Iterate over each nucleus of an image and calculate features.\n",
    "    for j in range(1,num_labels):\n",
    "\n",
    "        nuclei_mask = ((nuclei_instances==j)*255).astype('uint8')\n",
    "        output = cv2.findContours(image=nuclei_mask, mode=cv2.RETR_EXTERNAL, method=cv2.CHAIN_APPROX_SIMPLE)\n",
    "        perimeter = cv2.arcLength(output[0][0],1)\n",
    "        area = cv2.contourArea(output[0][0])\n",
    "        contours.append(output[0][0])\n",
    "        perimeters.append(perimeter)\n",
    "        areas.append(area)\n",
    "        intensity_levels = gray_image[nuclei_instances==j]\n",
    "        intensity.append(intensity_levels.mean())\n",
    "        if (perimeter**2!=0):\n",
    "            circularity.append((np.pi*4*area)/(perimeter**2))\n",
    "        else:\n",
    "            # append circularity value of -1 for nuclei with perimeter^2=0\n",
    "            circularity.append(-1)\n",
    "\n",
    "\n",
    "        # 3. Calculate the probability density function of the intensity levels in the nucleus in order to calculate different metrics \n",
    "        # regarding nucleus texture\n",
    "        p_intensity = np.histogram(intensity_levels, bins=np.arange(intensity_levels.min(), intensity_levels.max()+2), density=True)\n",
    "        texture_R.append(R(intensity_levels))\n",
    "        texture_U.append(U(p_intensity))\n",
    "        texture_E.append(E(p_intensity))\n",
    "\n",
    "    # 4. Save data of all nuclei in an image in a dictionary.\n",
    "    nuclei_data[str(i)]={'contours':contours, 'perimeters': perimeters, 'areas':areas, 'circularity':circularity, \n",
    "                                       'intensity':intensity, 'texture_R': texture_R, 'texture_U': texture_U, 'texture_E': texture_E}\n"
   ]
  },
  {
   "cell_type": "code",
   "execution_count": 5,
   "id": "d6068e6a-0199-4968-bac3-f493c56368a0",
   "metadata": {},
   "outputs": [
    {
     "name": "stdout",
     "output_type": "stream",
     "text": [
      "(23202, 6)\n"
     ]
    }
   ],
   "source": [
    "area_list = []\n",
    "circularity_list = []\n",
    "intensity_list = []\n",
    "texture_R_list = []\n",
    "texture_U_list = []\n",
    "texture_E_list = []\n",
    "\n",
    "for key in nuclei_data.keys():\n",
    "    area_list += nuclei_data[key]['areas']\n",
    "    circularity_list += nuclei_data[key]['circularity']\n",
    "    intensity_list += nuclei_data[key]['intensity']\n",
    "    texture_R_list += nuclei_data[key]['texture_R']\n",
    "    texture_U_list += nuclei_data[key]['texture_U']\n",
    "    texture_E_list += nuclei_data[key]['texture_E']\n",
    "\n",
    "X = np.stack((area_list, circularity_list, intensity_list, texture_R_list, texture_U_list, texture_E_list), axis=1)\n",
    "print (X.shape)"
   ]
  },
  {
   "cell_type": "markdown",
   "id": "3b33a079-44b4-45de-ac44-f137a4e195eb",
   "metadata": {},
   "source": [
    "## Clustering algorithm"
   ]
  },
  {
   "cell_type": "code",
   "execution_count": 16,
   "id": "e2b0f7ed-669f-44e3-ad41-8af7bdc09675",
   "metadata": {},
   "outputs": [],
   "source": [
    "kmeans = KMeans(n_clusters=15, random_state=0, n_init=\"auto\").fit(X)"
   ]
  },
  {
   "cell_type": "markdown",
   "id": "3579c211-23c9-4a41-b5cd-81f882ca34fa",
   "metadata": {},
   "source": [
    "## Inference over an example image"
   ]
  },
  {
   "cell_type": "code",
   "execution_count": 17,
   "id": "22add9c7-7b62-4aa6-af4c-058d1a2815b8",
   "metadata": {},
   "outputs": [
    {
     "name": "stdout",
     "output_type": "stream",
     "text": [
      "[ 0  1  2  3  4  5  6  7  8  9 10 11 12 13 14] [2217 1894  477 2496  120  957 2809  262 2124   34 1509 2272 2415 2931\n",
      "  685]\n"
     ]
    }
   ],
   "source": [
    "values, counts = np.unique(kmeans.labels_, return_counts=True)\n",
    "print(values, counts)"
   ]
  },
  {
   "cell_type": "code",
   "execution_count": 18,
   "id": "c5b9ccab-af2f-4def-8a8f-35f0b84a0e36",
   "metadata": {},
   "outputs": [
    {
     "data": {
      "text/plain": [
       "[(108, 13, 229),\n",
       " (0, 113, 214),\n",
       " (114, 61, 109),\n",
       " (195, 220, 239),\n",
       " (244, 210, 24),\n",
       " (197, 54, 210),\n",
       " (253, 49, 41),\n",
       " (132, 120, 217),\n",
       " (95, 118, 205),\n",
       " (203, 250, 207),\n",
       " (184, 213, 10),\n",
       " (123, 254, 94),\n",
       " (38, 39, 59),\n",
       " (149, 37, 181),\n",
       " (61, 82, 108)]"
      ]
     },
     "execution_count": 18,
     "metadata": {},
     "output_type": "execute_result"
    }
   ],
   "source": [
    "generate_tuples = lambda N, R: [(random.randint(0, R), random.randint(0, R), random.randint(0, R)) for _ in range(N)]\n",
    "colors = generate_tuples(len(values), 255)\n",
    "colors"
   ]
  },
  {
   "cell_type": "code",
   "execution_count": 19,
   "id": "234e0836-140a-4e11-a83d-d3f5d3e3f407",
   "metadata": {},
   "outputs": [],
   "source": [
    "select_random_image = np.random.randint(0,len(images)-1)\n",
    "\n",
    "selected_image_copy = images[select_random_image].copy()\n",
    "\n",
    "'''\n",
    "cv2.drawContours parameters:\n",
    "    img -> source image\n",
    "    contours -> contours which should be passed as a Python list\n",
    "    index of contours -> useful when drawing individual contour. To draw all contours, pass -1.\n",
    "    color\n",
    "    thickness\n",
    "'''\n",
    "\n",
    "X_test = np.column_stack([nuclei_data[str(select_random_image)]['areas'], nuclei_data[str(select_random_image)]['circularity'], \\\n",
    "                             nuclei_data[str(select_random_image)]['intensity'], nuclei_data[str(select_random_image)]['texture_R'], \\\n",
    "                            nuclei_data[str(select_random_image)]['texture_U'],nuclei_data[str(select_random_image)]['texture_E']])\n",
    "prediction = kmeans.predict(X_test)\n",
    "\n",
    "for label in np.unique(kmeans.labels_):\n",
    "    nuclei_idx = [idx[0] for idx in np.argwhere(prediction==label)]\n",
    "    contours_list = []\n",
    "    for idx in nuclei_idx:\n",
    "        contours_list.append(nuclei_data[str(select_random_image)]['contours'][idx])\n",
    "\n",
    "    cv2.drawContours(selected_image_copy, contours_list, -1, colors[label], 3)\n",
    "\n",
    "# im_h = cv2.hconcat([images[select_random_image], selected_image_copy])"
   ]
  },
  {
   "cell_type": "code",
   "execution_count": 24,
   "id": "0fb0f507-7578-41bf-b21a-cc9532349bca",
   "metadata": {},
   "outputs": [],
   "source": [
    "x,y,w,h = cv2.boundingRect(contours_list[0])\n",
    "esto = cv2.rectangle(selected_image_copy,(x,y),(x+w,y+h),(0,255,0),2)\n",
    "\n",
    "\n",
    "cv2.imshow('Contours', esto) \n",
    "cv2.waitKey(0) \n",
    "cv2.destroyAllWindows() "
   ]
  },
  {
   "cell_type": "code",
   "execution_count": 38,
   "id": "3805815d-2e47-466e-8562-5920a36c40fc",
   "metadata": {},
   "outputs": [
    {
     "data": {
      "text/plain": [
       "array([ 70,  11, 148])"
      ]
     },
     "execution_count": 38,
     "metadata": {},
     "output_type": "execute_result"
    }
   ],
   "source": [
    "colors[label]"
   ]
  },
  {
   "cell_type": "code",
   "execution_count": 11,
   "id": "01a62a84-3bed-4660-b808-e5f70c68c1ca",
   "metadata": {},
   "outputs": [
    {
     "data": {
      "text/plain": [
       "(array([0, 1, 2, 3, 5, 6, 7, 8], dtype=int32),\n",
       " array([42, 28,  3, 42,  8, 35,  4, 23]))"
      ]
     },
     "execution_count": 11,
     "metadata": {},
     "output_type": "execute_result"
    }
   ],
   "source": [
    "values, counts = np.unique(prediction, return_counts=True)\n",
    "values, counts"
   ]
  },
  {
   "cell_type": "code",
   "execution_count": 12,
   "id": "05f63f1a-dc8d-4aec-9240-bc0a57470bde",
   "metadata": {},
   "outputs": [
    {
     "data": {
      "text/plain": [
       "array([False,  True,  True, False, False, False, False, False, False,\n",
       "       False, False, False, False, False,  True, False, False, False,\n",
       "       False, False, False, False, False, False, False,  True, False,\n",
       "       False,  True, False,  True, False, False,  True,  True, False,\n",
       "       False,  True,  True, False, False,  True, False,  True, False,\n",
       "       False, False, False, False, False, False, False, False, False,\n",
       "        True, False, False,  True, False, False,  True, False, False,\n",
       "       False,  True, False, False, False,  True, False,  True, False,\n",
       "        True, False, False,  True,  True, False, False, False, False,\n",
       "       False,  True, False, False,  True, False, False, False, False,\n",
       "       False,  True, False, False,  True, False, False, False, False,\n",
       "       False, False, False,  True, False, False, False, False, False,\n",
       "       False, False, False, False, False, False, False, False, False,\n",
       "       False, False, False, False, False, False, False,  True, False,\n",
       "       False, False, False, False, False, False, False,  True, False,\n",
       "       False, False, False, False, False, False, False, False, False,\n",
       "       False,  True, False, False, False, False, False, False, False,\n",
       "       False,  True, False, False, False, False, False,  True, False,\n",
       "        True, False, False,  True, False, False, False, False,  True,\n",
       "        True, False,  True,  True,  True, False,  True, False,  True,\n",
       "       False, False,  True,  True, False])"
      ]
     },
     "execution_count": 12,
     "metadata": {},
     "output_type": "execute_result"
    }
   ],
   "source": [
    "prediction==0"
   ]
  },
  {
   "cell_type": "code",
   "execution_count": 22,
   "id": "fbd4bcf9-17cb-4a3b-a020-2b0d6cd0ebf9",
   "metadata": {},
   "outputs": [
    {
     "data": {
      "text/plain": [
       "array([[[181, 169, 191],\n",
       "        [187, 171, 198],\n",
       "        [196, 174, 209],\n",
       "        ...,\n",
       "        [181, 112, 140],\n",
       "        [182, 118, 138],\n",
       "        [184, 124, 139]],\n",
       "\n",
       "       [[191, 185, 204],\n",
       "        [193, 181, 205],\n",
       "        [196, 175, 208],\n",
       "        ...,\n",
       "        [181, 105, 133],\n",
       "        [182, 110, 133],\n",
       "        [184, 115, 135]],\n",
       "\n",
       "       [[200, 197, 213],\n",
       "        [198, 188, 208],\n",
       "        [195, 174, 202],\n",
       "        ...,\n",
       "        [153,  86, 114],\n",
       "        [154,  90, 117],\n",
       "        [156,  94, 120]],\n",
       "\n",
       "       ...,\n",
       "\n",
       "       [[236, 238, 236],\n",
       "        [236, 238, 236],\n",
       "        [236, 238, 236],\n",
       "        ...,\n",
       "        [242, 240, 240],\n",
       "        [242, 240, 240],\n",
       "        [243, 240, 240]],\n",
       "\n",
       "       [[235, 238, 235],\n",
       "        [235, 238, 235],\n",
       "        [235, 238, 235],\n",
       "        ...,\n",
       "        [242, 240, 240],\n",
       "        [242, 240, 240],\n",
       "        [243, 240, 240]],\n",
       "\n",
       "       [[234, 237, 234],\n",
       "        [234, 237, 234],\n",
       "        [234, 237, 234],\n",
       "        ...,\n",
       "        [242, 240, 240],\n",
       "        [242, 240, 240],\n",
       "        [243, 240, 240]]], dtype=uint8)"
      ]
     },
     "execution_count": 22,
     "metadata": {},
     "output_type": "execute_result"
    }
   ],
   "source": [
    "# nuclei_data[str(0)]['contours'][0]\n",
    "cv2.drawContours(images[0], nuclei_data[str(0)]['contours'][0], -1, (0,255,0), 2)"
   ]
  },
  {
   "cell_type": "code",
   "execution_count": 25,
   "id": "b2f2325e-c618-4afc-9f6f-958e09f59a3a",
   "metadata": {},
   "outputs": [],
   "source": [
    "selected_image = np.random.randint(0, len(images))"
   ]
  },
  {
   "cell_type": "code",
   "execution_count": null,
   "id": "b3b9aa21-c978-4149-8227-a2f3522856da",
   "metadata": {},
   "outputs": [],
   "source": [
    "    plt.imshow(cv2.addWeighted(cv2.cvtColor(images[random_images[i]], cv2.COLOR_BGR2RGB),0.7,masks[random_images[i]],0.3,0))\n",
    "    plt.axis('off')\n",
    "\n",
    "selected_image = np.random.randint(0, len(images), size=1)\n",
    "print ('The selected image is : ', selected_image)\n",
    "\n",
    "X_test = np.column_stack([nuclei_data[str(selected_image)]['areas'], nuclei_data[str(selected_image)]['circularity'], \\\n",
    "                             nuclei_data[str(selected_image)]['intensity'], nuclei_data[str(selected_image)]['texture_R'], \\\n",
    "                            nuclei_data[str(selected_image)]['texture_U'],nuclei_data[str(selected_image)]['texture_E']])\n",
    "prediction = kmeans.predict(X_test)\n",
    "\n",
    "\n",
    "\n",
    "for i in range(len(random_images)):\n",
    "\n",
    "    fig.add_subplot(3, 3, i+1)\n",
    "    \n",
    "    \n",
    "    nuclei_classification_mask = np.zeros(images[random_images[i]].shape)\n",
    "    for j in range(np.unique(prediction)):\n",
    "\n",
    "        prediction == j \n",
    "        \n",
    "\n",
    "\n"
   ]
  }
 ],
 "metadata": {
  "kernelspec": {
   "display_name": "Python 3 (ipykernel)",
   "language": "python",
   "name": "python3"
  },
  "language_info": {
   "codemirror_mode": {
    "name": "ipython",
    "version": 3
   },
   "file_extension": ".py",
   "mimetype": "text/x-python",
   "name": "python",
   "nbconvert_exporter": "python",
   "pygments_lexer": "ipython3",
   "version": "3.8.10"
  }
 },
 "nbformat": 4,
 "nbformat_minor": 5
}
